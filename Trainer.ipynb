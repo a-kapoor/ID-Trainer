{
 "cells": [
  {
   "cell_type": "code",
   "execution_count": 1,
   "id": "gentle-adolescent",
   "metadata": {},
   "outputs": [
    {
     "name": "stdout",
     "output_type": "stream",
     "text": [
      "Welcome to JupyROOT 6.18/00\n"
     ]
    }
   ],
   "source": [
    "import sys\n",
    "import os\n",
    "import uproot\n",
    "import glob\n",
    "import pandas as pd\n",
    "import numpy as np\n",
    "import ROOT\n",
    "import matplotlib.pyplot as plt\n",
    "import json\n",
    "os.system(\"\")\n",
    "\n",
    "import numpy as np\n",
    "from tensorflow.keras.models import Sequential\n",
    "from tensorflow.keras.layers import Dense, Activation\n",
    "from tensorflow.keras.optimizers import Adam\n",
    "from tensorflow.keras.layers import Dropout\n",
    "\n",
    "def prGreen(prt): print(\"\\033[92m {}\\033[00m\" .format(prt))"
   ]
  },
  {
   "cell_type": "code",
   "execution_count": 10,
   "id": "contemporary-therapy",
   "metadata": {},
   "outputs": [],
   "source": [
    "def in_ipynb():\n",
    "    try:\n",
    "        cfg = get_ipython().config \n",
    "        print(cfg)\n",
    "        if 'jupyter' in cfg['IPKernelApp']['connection_file']:\n",
    "            return True\n",
    "        else:\n",
    "            return False\n",
    "    except NameError:\n",
    "        return False\n",
    "    \n",
    "def plot_mva(df, column, bins, logscale=False, ax=None, title=None, ls='dashed', alpha=0.5, sample='',cat=\"Matchlabel\",Wt=\"Wt\"):\n",
    "    histtype=\"bar\" \n",
    "    if sample is 'test':\n",
    "        histtype=\"step\"      \n",
    "    if ax is None:\n",
    "        ax = plt.gca()\n",
    "    for name, group in df.groupby(cat):\n",
    "        if name == 0:\n",
    "            label=\"background\"\n",
    "        else:\n",
    "            label=\"signal\"\n",
    "        group[column].hist(bins=bins, histtype=histtype, alpha=1,\n",
    "                           label=label+' '+sample, ax=ax, density=True, ls=ls, weights =group[Wt],linewidth=2)\n",
    "    #ax.set_ylabel(\"density\")\n",
    "    ax.set_xlabel(column)\n",
    "    ax.legend(fontsize=10)\n",
    "    ax.set_title(title)\n",
    "    if logscale:\n",
    "        ax.set_yscale(\"log\", nonposy='clip')"
   ]
  },
  {
   "cell_type": "code",
   "execution_count": 11,
   "id": "mathematical-spank",
   "metadata": {},
   "outputs": [],
   "source": [
    "def plot_roc_curve(df, score_column, tpr_threshold=0, ax=None, color=None, linestyle='-', label=None,cat=\"Matchlabel\",Wt=\"Wt\"):\n",
    "    from sklearn import metrics\n",
    "    if ax is None: ax = plt.gca()\n",
    "    if label is None: label = score_column\n",
    "    fpr, tpr, thresholds = metrics.roc_curve(df[cat], df[score_column],sample_weight=df[Wt])\n",
    "    mask = tpr > tpr_threshold\n",
    "    fpr, tpr = fpr[mask], tpr[mask]\n",
    "    auc=metrics.auc(fpr, tpr)\n",
    "    label=label+' auc='+str(round(auc*100,1))+'%'\n",
    "    ax.plot(tpr, fpr, label=label, color=color, linestyle=linestyle,linewidth=4)\n",
    "    ax.legend()\n",
    "    return auc\n",
    "\n",
    "def plot_single_roc_point(df, var='Fall17isoV1wpLoose', \n",
    "                          ax=None , marker='o', \n",
    "                          markersize=6, color=\"red\", label='', cat=\"Matchlabel\",Wt=\"Wt\"):\n",
    "    backgroundpass=df.loc[(df[var] == 1) & (df[cat] == 0),Wt].sum()\n",
    "    backgroundrej=df.loc[(df[var] == 0) & (df[cat] == 0),Wt].sum()\n",
    "    signalpass=df.loc[(df[var] == 1) & (df[cat] == 1),Wt].sum()\n",
    "    signalrej=df.loc[(df[var] == 0) & (df[cat] == 1),Wt].sum()\n",
    "    backgroundrej=backgroundrej/(backgroundpass+backgroundrej)\n",
    "    signaleff=signalpass/(signalpass+signalrej)\n",
    "    ax.plot([signaleff], [1-backgroundrej], marker=marker, color=color, markersize=markersize, label=label)\n",
    "    ax.legend()"
   ]
  },
  {
   "cell_type": "code",
   "execution_count": 12,
   "id": "dependent-usage",
   "metadata": {},
   "outputs": [
    {
     "name": "stdout",
     "output_type": "stream",
     "text": [
      "{'IPKernelApp': {'connection_file': '/scratch/akapoor/.local/share/jupyter/runtime/kernel-32fbbfec-de0d-403d-94bc-45442222cce8.json', 'parent_appname': <traitlets.config.loader.LazyConfigValue object at 0x7fb30eb50da0>}, 'InteractiveShellApp': {'extensions': <traitlets.config.loader.LazyConfigValue object at 0x7fb376dcb780>}}\n",
      "In IPython\n"
     ]
    },
    {
     "name": "stderr",
     "output_type": "stream",
     "text": [
      "WARNING: Logging before flag parsing goes to stderr.\n",
      "W0313 13:27:34.759604 140409085761344 deprecation.py:506] From /cvmfs/sft.cern.ch/lcg/views/LCG_96python3/x86_64-centos7-gcc8-opt/lib/python3.6/site-packages/tensorflow/python/ops/init_ops.py:1288: calling VarianceScaling.__init__ (from tensorflow.python.ops.init_ops) with dtype is deprecated and will be removed in a future version.\n",
      "Instructions for updating:\n",
      "Call initializer instance with the dtype argument instead of passing it to the constructor\n"
     ]
    }
   ],
   "source": [
    "if in_ipynb(): \n",
    "    print(\"In IPython\")\n",
    "    exec(\"import Tools.TrainConfig as Conf\")\n",
    "else:\n",
    "    TrainConfig=sys.argv[1]\n",
    "    prGreen(\"Importing settings from \"+ TrainConfig.replace(\"/\", \".\"))\n",
    "    #exec(\"from \"+TrainConfig+\" import *\")\n",
    "    importConfig=TrainConfig.replace(\"/\", \".\")\n",
    "    exec(\"import \"+importConfig+\" as Conf\")"
   ]
  },
  {
   "cell_type": "code",
   "execution_count": null,
   "id": "pleasant-split",
   "metadata": {},
   "outputs": [],
   "source": [
    "if Conf.Debug==True:\n",
    "    prGreen(\"Running in debug mode : Only every 10th event will be used\")"
   ]
  },
  {
   "cell_type": "code",
   "execution_count": null,
   "id": "handy-needle",
   "metadata": {},
   "outputs": [],
   "source": [
    "\n",
    "prGreen(\"Making output directory\")\n",
    "os.system(\"mkdir -p \" + Conf.OutputDirName)\n",
    "os.system(\"cp \"+TrainConfig+\".py ./\"+ Conf.OutputDirName+\"/\")\n",
    "os.system(\"cp Trainer.py ./\"+ Conf.OutputDirName+\"/\")"
   ]
  },
  {
   "cell_type": "code",
   "execution_count": null,
   "id": "solar-croatia",
   "metadata": {},
   "outputs": [],
   "source": [
    "cat='EleType'\n",
    "weight=\"NewWt\"\n",
    "label=[\"Background\",\"Signal\"]"
   ]
  },
  {
   "cell_type": "code",
   "execution_count": null,
   "id": "expected-honey",
   "metadata": {},
   "outputs": [],
   "source": [
    "#Works in uproot3\n",
    "prGreen(\"Making data frames\")\n",
    "Sigdf=pd.DataFrame()\n",
    "Bkgdf=pd.DataFrame()\n",
    "\n",
    "for SigFile,SigXsecWt,SigCut in zip(Conf.SigFiles,Conf.SigXsecWts,Conf.SigCuts):\n",
    "    if Conf.Debug==True:\n",
    "        Sigdfi = uproot.open(SigFile).get(Conf.Tree).pandas.df().query(SigCut+' & '+Conf.CommonCut).iloc[::10]\n",
    "    else:\n",
    "        Sigdfi = uproot.open(SigFile).get(Conf.Tree).pandas.df().query(SigCut+' & '+Conf.CommonCut)\n",
    "    Sigdfi['xsecwt']=SigXsecWt\n",
    "    Sigdf=pd.concat([Sigdf,Sigdfi],ignore_index=True, sort=False)\n",
    "for BkgFile,BkgXsecWt,BkgCut in zip(Conf.BkgFiles,Conf.BkgXsecWts,Conf.BkgCuts):\n",
    "    if Conf.Debug==True:\n",
    "        Bkgdfi = uproot.open(BkgFile).get(Conf.Tree).pandas.df().query(BkgCut+' & '+Conf.CommonCut).iloc[::10]\n",
    "    else:\n",
    "        Bkgdfi = uproot.open(BkgFile).get(Conf.Tree).pandas.df().query(BkgCut+' & '+Conf.CommonCut)\n",
    "    Bkgdfi['xsecwt']=BkgXsecWt\n",
    "    Bkgdf=pd.concat([Bkgdf,Bkgdfi],ignore_index=True, sort=False)"
   ]
  },
  {
   "cell_type": "code",
   "execution_count": null,
   "id": "suffering-interference",
   "metadata": {},
   "outputs": [],
   "source": [
    "Sigdf[cat]=1\n",
    "Bkgdf[cat]=0\n",
    "\n",
    "Sigdf[\"Type\"]=\"Signal\"\n",
    "Bkgdf[\"Type\"]=\"Background\"\n",
    "\n",
    "#Reweighing\n",
    "Sigdf[weight]=1\n",
    "Bkgdf[weight]=1\n",
    "\n",
    "df_final=pd.concat([Sigdf,Bkgdf],ignore_index=True, sort=False)\n",
    "from sklearn.model_selection import train_test_split\n",
    "TrainIndices, TestIndices = train_test_split(df_final.index.values.tolist(), test_size=Conf.testsize, random_state=Conf.RandomState, shuffle=True)\n",
    "\n",
    "df_final.loc[TrainIndices,'Dataset'] = \"Train\"\n",
    "df_final.loc[TestIndices,'Dataset'] = \"Test\"\n",
    "\n",
    "df_final.loc[TrainIndices,'TrainDataset'] = 1\n",
    "df_final.loc[TestIndices,'TrainDataset'] = 0\n",
    "\n",
    "df_final[\"NewWt\"]=1"
   ]
  },
  {
   "cell_type": "code",
   "execution_count": null,
   "id": "solved-roman",
   "metadata": {},
   "outputs": [],
   "source": []
  },
  {
   "cell_type": "code",
   "execution_count": null,
   "id": "silent-elements",
   "metadata": {},
   "outputs": [],
   "source": [
    "import seaborn as sns\n",
    "fig, axes = plt.subplots(1, 1, figsize=(10, 5))\n",
    "sns.countplot(x=\"Type\", data=df_final, ax=axes,hue='Dataset',palette=['#432371',\"#FAAE7B\"])\n",
    "axes.set_title(\"Number of samples\")\n",
    "#axes.set_yscale(\"log\")\n",
    "plt.savefig(Conf.OutputDirName+\"/TotalStat_TrainANDTest.png\")\n",
    "    "
   ]
  },
  {
   "cell_type": "code",
   "execution_count": null,
   "id": "mediterranean-orlando",
   "metadata": {},
   "outputs": [],
   "source": [
    "fig, axes = plt.subplots(1, len(Conf.features), figsize=(len(Conf.features)*5, 5))\n",
    "prGreen(\"Making training dataset feature plots\")\n",
    "for m in range(len(Conf.features)):\n",
    "    for i,group_df in df_final[df_final['Dataset'] == \"Train\"].groupby(cat):\n",
    "        group_df[Conf.features[m-1]].hist(histtype='step', bins=Conf.feature_bins[m-1], alpha=0.7,label=label[i], ax=axes[m-1], density=False, ls='-', weights =group_df[weight]/group_df[weight].sum(),linewidth=4)\n",
    "        #df_new = pd.concat([group_df, df_new],ignore_index=True, sort=False)                                                                                            \n",
    "    axes[m-1].legend(loc='upper right')\n",
    "    axes[m-1].set_xlabel(Conf.features[m-1])\n",
    "    axes[m-1].set_yscale(\"log\")\n",
    "    axes[m-1].set_title(Conf.features[m-1]+\" (Training Dataset)\")\n",
    "plt.savefig(Conf.OutputDirName+\"/featureplots_Training.png\")"
   ]
  },
  {
   "cell_type": "code",
   "execution_count": null,
   "id": "hired-convention",
   "metadata": {},
   "outputs": [],
   "source": [
    "import matplotlib.pyplot as plt\n",
    "fig, axes = plt.subplots(1, len(Conf.features), figsize=(len(Conf.features)*5, 5))\n",
    "prGreen(\"Making testing dataset feature plots\")\n",
    "for m in range(len(Conf.features)):\n",
    "    for i,group_df in df_final[df_final['Dataset'] == \"Test\"].groupby(cat):\n",
    "        group_df[Conf.features[m-1]].hist(histtype='step', bins=Conf.feature_bins[m-1], alpha=0.7,label=label[i], ax=axes[m-1], density=False, ls='-', weights =group_df[weight]/group_df[weight].sum(),linewidth=4)\n",
    "        #df_new = pd.concat([group_df, df_new],ignore_index=True, sort=False)                                                                                            \n",
    "    axes[m-1].legend(loc='upper right')\n",
    "    axes[m-1].set_xlabel(Conf.features[m-1])\n",
    "    axes[m-1].set_yscale(\"log\")\n",
    "    axes[m-1].set_title(Conf.features[m-1]+\" (Testing Dataset)\")\n",
    "plt.savefig(Conf.OutputDirName+\"/featureplots_Testing.png\")"
   ]
  },
  {
   "cell_type": "code",
   "execution_count": null,
   "id": "terminal-thunder",
   "metadata": {},
   "outputs": [],
   "source": [
    "X_train = df_final.loc[TrainIndices,Conf.features]\n",
    "Y_train = df_final.loc[TrainIndices,cat]\n",
    "Wt_train = df_final.loc[TrainIndices,weight]\n",
    "    \n",
    "X_test = df_final.loc[TestIndices,Conf.features]\n",
    "Y_test = df_final.loc[TestIndices,cat]\n",
    "Wt_test = df_final.loc[TestIndices,weight]\n",
    "\n",
    "X_train = np.asarray(X_train)\n",
    "Y_train = np.asarray(Y_train)\n",
    "Wt_train = np.asarray(Wt_train)\n",
    "    \n",
    "X_test = np.asarray(X_test)\n",
    "Y_test = np.asarray(Y_test)\n",
    "Wt_test = np.asarray(Wt_test)"
   ]
  },
  {
   "cell_type": "code",
   "execution_count": null,
   "id": "secondary-scott",
   "metadata": {},
   "outputs": [],
   "source": [
    "if 'XGB' in Conf.MVAs:\n",
    "    prGreen(\"XGB Training starting\")\n",
    "    import xgboost as xgb\n",
    "    from sklearn.model_selection import cross_val_score, GridSearchCV\n",
    "    xgb_model = xgb.XGBClassifier(objective=\"binary:logistic\", random_state=Conf.RandomState)\n",
    "    #xgb_model.set_config(verbosity=2)\n",
    "    prGreen(\"Performing XGB grid search\")\n",
    "    cv = GridSearchCV(xgb_model, Conf.XGBGridSearch,scoring = 'accuracy',cv=3,verbose=1)\n",
    "    search=cv.fit(X_train, Y_train, sample_weight=Wt_train,verbose=1)\n",
    "\n",
    "    prGreen(\"Expected accuracy of XGB model = \"+str((np.round(np.average(search.best_score_),3))*100)+'%')\n",
    "    #prGreen(\"Expected accuracy of XGB model = \"+str((np.average(search.best_score_))*100)+'%')\n",
    "    prGreen(\"XGB Best Parameters\")\n",
    "    \n",
    "    #json.dumps(search.best_params_)\n",
    "    prGreen(str(search.best_params_))\n",
    "    \n",
    "    df_final.loc[TrainIndices,\"XGB_pred\"]=cv.predict_proba(X_train)[:,1]\n",
    "    df_final.loc[TestIndices,\"XGB_pred\"]=cv.predict_proba(X_test)[:,1]\n",
    "    \n",
    "    prGreen(\"Plotting output response for XGB\")\n",
    "    fig, axes = plt.subplots(1, 1, figsize=(5, 5))\n",
    "    plot_mva(df_final.query('TrainDataset==1'),\"XGB_pred\",bins=50,cat=cat,Wt=weight,ax=axes,sample='train',ls='dashed',logscale=True)\n",
    "    plot_mva(df_final.query('TrainDataset==0'),\"XGB_pred\",bins=50,cat=cat,Wt=weight,ax=axes,sample='test',ls='dotted',logscale=True)\n",
    "    plt.savefig(Conf.OutputDirName+\"/XGBMVA.png\")\n",
    "    \n",
    "    prGreen(\"Plotting ROC for XGB\")\n",
    "    fig, axes = plt.subplots(1, 1, figsize=(5, 5))\n",
    "    plot_roc_curve(df_final.query('TrainDataset==1'),\"XGB_pred\", tpr_threshold=0, ax=axes, color=None, linestyle='-', label='Training',cat=cat,Wt=weight)\n",
    "    plot_roc_curve(df_final.query('TrainDataset==0'),\"XGB_pred\", tpr_threshold=0, ax=axes, color=None, linestyle='--', label='Testing',cat=cat,Wt=weight)\n",
    "    if len(Conf.OverlayWP)>0:\n",
    "        for color,OverlayWpi in zip(Conf.OverlayWPColors,Conf.OverlayWP):\n",
    "            plot_single_roc_point(df_final.query('TrainDataset==0'), var=OverlayWpi, ax=axes, color=color, marker='o', markersize=6, label=OverlayWpi+\" Test dataset\", cat=cat,Wt=weight)\n",
    "    axes.set_ylabel(\"Background efficiency\")\n",
    "    axes.set_xlabel(\"Signal efficiency\")\n",
    "    axes.set_title(\"XGB\")\n",
    "    plt.savefig(Conf.OutputDirName+\"/XGBROC.png\")"
   ]
  },
  {
   "cell_type": "code",
   "execution_count": null,
   "id": "israeli-purse",
   "metadata": {},
   "outputs": [],
   "source": [
    "from tensorflow.keras.callbacks import EarlyStopping\n",
    "if 'DNN' in Conf.MVAs:\n",
    "    prGreen(\"DNN fitting running\")\n",
    "    es = EarlyStopping(monitor='val_loss', mode='min', verbose=1, patience=10)\n",
    "    modelDNN=Conf.modelDNN\n",
    "    modelDNN.compile(loss='binary_crossentropy', optimizer=Adam(lr=Conf.DNNDict['lr']), metrics=['accuracy',])\n",
    "    train_history = modelDNN.fit(X_train,Y_train,epochs=Conf.DNNDict['epochs'],batch_size=Conf.DNNDict['batchsize'],validation_data=(X_test,Y_test, Wt_test),\n",
    "                                 verbose=1,callbacks=[es], sample_weight=Wt_train)\n",
    "    modelDNN.save(Conf.OutputDirName+\"/modelDNN.h5\")\n",
    "    df_final.loc[TrainIndices,\"DNN_pred\"]=modelDNN.predict(X_train)\n",
    "    df_final.loc[TestIndices,\"DNN_pred\"]=modelDNN.predict(X_test)\n",
    "    \n",
    "    prGreen(\"Plotting output response for DNN\")\n",
    "    fig, axes = plt.subplots(1, 1, figsize=(5, 5))\n",
    "    plot_mva(df_final.query('TrainDataset==1'),\"DNN_pred\",bins=50,cat=cat,Wt=weight,ax=axes,sample='train',ls='dashed',logscale=True)\n",
    "    plot_mva(df_final.query('TrainDataset==0'),\"DNN_pred\",bins=50,cat=cat,Wt=weight,ax=axes,sample='test',ls='dotted',logscale=True)\n",
    "    plt.savefig(Conf.OutputDirName+\"/DNNMVA.png\")\n",
    "    \n",
    "    prGreen(\"Plotting ROC for DNN\")\n",
    "    fig, axes = plt.subplots(1, 1, figsize=(5, 5))\n",
    "    plot_roc_curve(df_final.query('TrainDataset==1'),\"DNN_pred\", tpr_threshold=0, ax=axes, color=None, linestyle='-', label='DNN Training',cat=cat,Wt=weight)\n",
    "    plot_roc_curve(df_final.query('TrainDataset==0'),\"DNN_pred\", tpr_threshold=0, ax=axes, color=None, linestyle='--', label='DNN Testing',cat=cat,Wt=weight)\n",
    "    if len(Conf.OverlayWP)>0:\n",
    "        for color,OverlayWpi in zip(Conf.OverlayWPColors,Conf.OverlayWP):\n",
    "            plot_single_roc_point(df_final.query('TrainDataset==0'), var=OverlayWpi, ax=axes, color=color, marker='o', markersize=6, label=OverlayWpi+\" Test dataset\", cat=cat,Wt=weight)\n",
    "    axes.set_ylabel(\"Background efficiency\")\n",
    "    axes.set_xlabel(\"Signal efficiency\")\n",
    "    axes.set_title(\"DNN\")\n",
    "    plt.savefig(Conf.OutputDirName+\"/DNNROC.png\")"
   ]
  },
  {
   "cell_type": "code",
   "execution_count": null,
   "id": "catholic-surface",
   "metadata": {},
   "outputs": [],
   "source": [
    "if 'Genetic' in Conf.MVAs:\n",
    "    prGreen(\"Sorry Genetic algo not implemented yet! Coming Soon\")"
   ]
  },
  {
   "cell_type": "code",
   "execution_count": null,
   "id": "atomic-eclipse",
   "metadata": {},
   "outputs": [],
   "source": [
    "##PlotFinalROC\n",
    "prGreen(\"Plotting Final ROC\")\n",
    "fig, axes = plt.subplots(1, 1, figsize=(5, 5))\n",
    "if len(Conf.OverlayWP)>0:\n",
    "    for color,OverlayWpi in zip(Conf.OverlayWPColors,Conf.OverlayWP):\n",
    "        plot_single_roc_point(df_final.query('TrainDataset==0'), var=OverlayWpi, ax=axes, color=color, marker='o', markersize=6, label=OverlayWpi+\" Test dataset\", cat=cat,Wt=weight)\n",
    "if len(Conf.MVAs)>0:\n",
    "    for color,MVAi in zip(Conf.MVAColors,Conf.MVAs):\n",
    "        plot_roc_curve(df_final.query('TrainDataset==0'),MVAi+\"_pred\", tpr_threshold=0.7, ax=axes, color=color, linestyle='--', label=MVAi+' Testing',cat=cat,Wt=weight)\n",
    "        plot_roc_curve(df_final.query('TrainDataset==1'),MVAi+\"_pred\", tpr_threshold=0.7, ax=axes, color=color, linestyle='-', label=MVAi+' Training',cat=cat,Wt=weight)\n",
    "    axes.set_ylabel(\"Background efficiency\")\n",
    "    axes.set_xlabel(\"Signal efficiency\")\n",
    "    axes.set_title(\"Final\")\n",
    "plt.savefig(Conf.OutputDirName+\"/ROCFinal.png\")"
   ]
  },
  {
   "cell_type": "code",
   "execution_count": null,
   "id": "disturbed-marketing",
   "metadata": {},
   "outputs": [],
   "source": [
    "os.system(\"convert \"+Conf.OutputDirName+\"/featureplots_T* \"+Conf.OutputDirName+\"/TotalStat_TrainANDTest.png \"+Conf.OutputDirName+\"/XGB* \"+Conf.OutputDirName+\"/DNN* \"+Conf.OutputDirName+\"/ROCFinal.png \"+Conf.OutputDirName+\"/mydoc.pdf\")\n",
    "prGreen(\"Done!! Please find the quick look pdf here \"+Conf.OutputDirName+\"/mydoc.pdf\")"
   ]
  },
  {
   "cell_type": "code",
   "execution_count": null,
   "id": "final-polyester",
   "metadata": {},
   "outputs": [],
   "source": []
  },
  {
   "cell_type": "code",
   "execution_count": null,
   "id": "timely-carrier",
   "metadata": {},
   "outputs": [],
   "source": []
  },
  {
   "cell_type": "code",
   "execution_count": null,
   "id": "postal-grenada",
   "metadata": {},
   "outputs": [],
   "source": []
  }
 ],
 "metadata": {
  "kernelspec": {
   "display_name": "Python 3",
   "language": "python",
   "name": "python3"
  },
  "language_info": {
   "codemirror_mode": {
    "name": "ipython",
    "version": 3
   },
   "file_extension": ".py",
   "mimetype": "text/x-python",
   "name": "python",
   "nbconvert_exporter": "python",
   "pygments_lexer": "ipython3",
   "version": "3.6.5"
  }
 },
 "nbformat": 4,
 "nbformat_minor": 5
}
